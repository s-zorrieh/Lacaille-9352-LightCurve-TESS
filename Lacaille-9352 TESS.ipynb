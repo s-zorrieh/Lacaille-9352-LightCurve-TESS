{
 "cells": [
  {
   "cell_type": "code",
   "execution_count": null,
   "id": "f9601dda-d8e4-42a7-bff6-bb272a77403d",
   "metadata": {},
   "outputs": [],
   "source": [
    "import numpy as np\n",
    "import matplotlib.pyplot as plt\n",
    "from astroquery.mast import Observations as obs\n",
    "from astropy.io import fits"
   ]
  },
  {
   "cell_type": "code",
   "execution_count": null,
   "id": "fb98195c-5ee1-4db0-bd51-0d493702a813",
   "metadata": {},
   "outputs": [],
   "source": [
    "# Downloading file from MAST archive\n",
    "\n",
    "# Star name: Lacaille 9352\n",
    "url = \"mast:TESS/product/tess2020212050318-s0028-0000000155083467-0190-s_lc.fits\"\n",
    "obs.download_file(url)"
   ]
  },
  {
   "cell_type": "code",
   "execution_count": null,
   "id": "44a6aac0-f645-49e2-9796-9fc2b48bbcd4",
   "metadata": {},
   "outputs": [],
   "source": [
    "# Openning the file\n",
    "\n",
    "test_file_data = fits.open(\"tess2020212050318-s0028-0000000155083467-0190-s_lc.fits\")"
   ]
  },
  {
   "cell_type": "code",
   "execution_count": null,
   "id": "4637181e-7220-45f7-a69f-864cb34947ce",
   "metadata": {
    "tags": []
   },
   "outputs": [],
   "source": [
    "# FITS file format and structure\n",
    "\n",
    "test_file_data.info()"
   ]
  },
  {
   "cell_type": "code",
   "execution_count": null,
   "id": "7633422b-0269-4477-89ba-edd2f2decbf7",
   "metadata": {
    "tags": []
   },
   "outputs": [],
   "source": [
    "# FITS File primary header\n",
    "\n",
    "test_file_data[0].header"
   ]
  },
  {
   "cell_type": "code",
   "execution_count": null,
   "id": "e4f9c79b-11b6-4e75-9e7f-7a3bb87aebc5",
   "metadata": {},
   "outputs": [],
   "source": [
    "# Getting data from headers {EXTENSION}.header[\"NAME\"]\n",
    "\n",
    "host_star_effective_temperature = test_file_data[0].header[\"TEFF\"]\n",
    "host_star_TESS_magnitude = test_file_data[0].header[\"TESSMAG\"]\n",
    "host_star_radius = test_file_data[0].header[\"RADIUS\"]"
   ]
  },
  {
   "cell_type": "code",
   "execution_count": null,
   "id": "fa1bfeba-c77c-48a9-a81c-0ebdf20915cf",
   "metadata": {
    "tags": []
   },
   "outputs": [],
   "source": [
    "test_file_data[1].header"
   ]
  },
  {
   "cell_type": "code",
   "execution_count": null,
   "id": "f864d79d-c33d-4987-b7b0-0cc8ba5d3ff2",
   "metadata": {
    "tags": []
   },
   "outputs": [],
   "source": [
    "test_file_data[1].columns"
   ]
  },
  {
   "cell_type": "code",
   "execution_count": null,
   "id": "4b74a234-97e8-4687-8c19-47cb2f3cf2ec",
   "metadata": {},
   "outputs": [],
   "source": [
    "# Accesssing the specific data by: {EXTENSION}.data[\"{COLUMN NAME}\"]\n",
    "\n",
    "time = test_file_data[1].data[\"TIME\"]\n",
    "sapflux = test_file_data[1].data[\"SAP_FLUX\"]"
   ]
  },
  {
   "cell_type": "code",
   "execution_count": null,
   "id": "db0cb79c-05ec-4d7d-8b90-ae8c77dcc0ab",
   "metadata": {},
   "outputs": [],
   "source": [
    "# Getting an index array which sorts time array\n",
    "# Using np.argsort({ARRAY})\n",
    "\n",
    "sorted_indexes = np.argsort(time)"
   ]
  },
  {
   "cell_type": "code",
   "execution_count": null,
   "id": "8164adbb-4fac-46aa-b535-e3ae6f5883af",
   "metadata": {},
   "outputs": [],
   "source": [
    "# Ploting\n",
    "\n",
    "plt.figure(figsize=(17, 5))\n",
    "plt.plot(\n",
    "    time[sorted_indexes],\n",
    "    sapflux[sorted_indexes],\n",
    "    'ko',\n",
    "    markersize=2,\n",
    "    label=\"light Curve\"\n",
    "    )\n",
    "\n",
    "plt.xlabel(\"Time\")\n",
    "plt.ylabel(\"SAP Flux\")\n",
    "\n",
    "plt.title(f\"SAP Flux from '$Lacaille$ $9352$'\\n $Effective$ $Temperature$ $[Kelvin]$ = {host_star_effective_temperature}, $TESS$ $Mag.$ = {host_star_TESS_magnitude}, $Radius$ $[Solar$ $Radii]$ = {host_star_radius}\")\n",
    "\n",
    "plt.legend(loc=\"lower right\", fontsize=12)\n",
    "\n",
    "plt.show()\n",
    "\n",
    "# Save figure in main directory\n",
    "plt.savefig(\"light curve plot.png\")"
   ]
  },
  {
   "cell_type": "code",
   "execution_count": null,
   "id": "447ba9a5-b367-4b65-8763-0b32f83b6d4f",
   "metadata": {
    "tags": []
   },
   "outputs": [],
   "source": [
    "test_file_data[2].header"
   ]
  },
  {
   "cell_type": "code",
   "execution_count": null,
   "id": "e034d619-0684-481c-89ad-23142d7f8abe",
   "metadata": {
    "tags": []
   },
   "outputs": [],
   "source": [
    "# simple image processing by matplotlib (TESS CCD)\n",
    "\n",
    "aperture = test_file_data[2].data\n",
    "\n",
    "fig, ax = plt.subplots()\n",
    "\n",
    "# Display the pixels as an image.\n",
    "cax = ax.imshow(aperture, cmap=plt.cm.YlGnBu_r, origin=\"lower\")\n",
    "\n",
    "# Add a color bar.\n",
    "cbar = fig.colorbar(cax)\n",
    "\n",
    "# Add a title to the plot.\n",
    "fig.suptitle(\"$Lacaille$ $9352$ Aperture from TESS Photometer\")\n",
    "plt.show()\n",
    "\n",
    "# Save image in main directory\n",
    "plt.savefig(\"aperture.png\")"
   ]
  }
 ],
 "metadata": {
  "kernelspec": {
   "display_name": "Python 3 (ipykernel)",
   "language": "python",
   "name": "python3"
  },
  "language_info": {
   "codemirror_mode": {
    "name": "ipython",
    "version": 3
   },
   "file_extension": ".py",
   "mimetype": "text/x-python",
   "name": "python",
   "nbconvert_exporter": "python",
   "pygments_lexer": "ipython3",
   "version": "3.9.7"
  }
 },
 "nbformat": 4,
 "nbformat_minor": 5
}
